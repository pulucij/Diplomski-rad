{
 "cells": [
  {
   "cell_type": "markdown",
   "metadata": {},
   "source": [
    "# BABC-implementacija"
   ]
  },
  {
   "cell_type": "markdown",
   "metadata": {},
   "source": [
    "Implementacija u potpunosti prati pseudo kod iz [1]. Jedina razlika je vezana uz računanje evaluacije klasifikacijskog algoritma, tj. funkcije dobrote u pčelinjem algoritmu."
   ]
  },
  {
   "cell_type": "code",
   "execution_count": 1,
   "metadata": {},
   "outputs": [],
   "source": [
    "# Importing the libraries\n",
    "import numpy as np\n",
    "from sklearn.ensemble import RandomForestClassifier\n",
    "from sklearn.neighbors import KNeighborsClassifier\n",
    "from sklearn.naive_bayes import GaussianNB\n",
    "from sklearn.metrics import confusion_matrix\n",
    "\n",
    "import random\n",
    "\n",
    "from sklearn.metrics import balanced_accuracy_score"
   ]
  },
  {
   "cell_type": "code",
   "execution_count": 2,
   "metadata": {},
   "outputs": [],
   "source": [
    "def KNN_Classifier(X_train_features, X_test_features, y_train, y_test, n):\n",
    "    classifier = KNeighborsClassifier(n_neighbors = n, metric = 'minkowski', p = 2)\n",
    "    classifier.fit(X_train_features, y_train)\n",
    "    \n",
    "    y_pred = classifier.predict(X_test_features)\n",
    "    \n",
    "    return y_pred"
   ]
  },
  {
   "cell_type": "code",
   "execution_count": 3,
   "metadata": {},
   "outputs": [],
   "source": [
    "def RF_Classifier(X_train_features, X_test_features, y_train, y_test, n):\n",
    "    classifier = RandomForestClassifier(n_estimators = n, criterion = 'entropy', random_state = 0)\n",
    "    classifier.fit(X_train_features, y_train)\n",
    "    \n",
    "    y_pred = classifier.predict(X_test_features)\n",
    "    \n",
    "    return y_pred"
   ]
  },
  {
   "cell_type": "code",
   "execution_count": 4,
   "metadata": {},
   "outputs": [],
   "source": [
    "def NB_Classifier(X_train_features, X_test_features, y_train, y_test):\n",
    "    classifier = GaussianNB()\n",
    "    classifier.fit(X_train_features, y_train)\n",
    "    \n",
    "    y_pred = classifier.predict(X_test_features)\n",
    "    \n",
    "    return y_pred"
   ]
  },
  {
   "cell_type": "markdown",
   "metadata": {},
   "source": [
    "Evaluacijska metrika je promijenjena zbog *accuracy paradox*-a objašnjenog u [2]. Koristi se *balanced_accuracy* pojašnjena u [3]."
   ]
  },
  {
   "cell_type": "code",
   "execution_count": 5,
   "metadata": {},
   "outputs": [],
   "source": [
    "def calculate_accuracy(bee, X_train, X_test, y_train, y_test, algorithm, n):\n",
    "    #count number of features\n",
    "    k=0\n",
    "    for j in range(0,len(bee)):\n",
    "        if bee[j]==1:\n",
    "            k+=1\n",
    "    X_train_features = np.zeros((X_train.shape[0], k))\n",
    "    X_test_features = np.zeros((X_test.shape[0], k))\n",
    "        \n",
    "    k=0\n",
    "    for j in range(0,len(bee)):\n",
    "        if bee[j]==1:\n",
    "            X_train_features[:,k]=X_train[:,j]\n",
    "            X_test_features[:,k]=X_test[:,j]\n",
    "            k+=1\n",
    "    \n",
    "    if(algorithm == 'KNN'):\n",
    "        y_pred = KNN_Classifier(X_train_features, X_test_features, y_train, y_test, n)\n",
    "    elif(algorithm == 'RF'):\n",
    "        y_pred = RF_Classifier(X_train_features, X_test_features, y_train, y_test, n)\n",
    "    elif(algorithm == 'NB'):\n",
    "        y_pred = NB_Classifier(X_train_features, X_test_features, y_train, y_test)\n",
    "    else:\n",
    "        raise ValueError('Key word is not recognized.')\n",
    "        \n",
    "    return balanced_accuracy_score(y_test, y_pred)"
   ]
  },
  {
   "cell_type": "code",
   "execution_count": 6,
   "metadata": {},
   "outputs": [],
   "source": [
    "def init(number_employed_bees, columns_number, employed_matrix):\n",
    "    for i in range(0,number_employed_bees):\n",
    "        test=0\n",
    "        while test==0:\n",
    "            array = np.zeros(columns_number)\n",
    "            for j in range(0,columns_number):\n",
    "                rand_number = random.random()\n",
    "                if rand_number <= 0.5:\n",
    "                    array[j]=0\n",
    "                else:\n",
    "                    array[j]=1\n",
    "            if not np.isin(1, array):\n",
    "                continue\n",
    "            for j in range(0,i):\n",
    "                if np.array_equal(employed_matrix[j],array):\n",
    "                    continue\n",
    "            employed_matrix[i] = array\n",
    "            test=1"
   ]
  },
  {
   "cell_type": "code",
   "execution_count": 7,
   "metadata": {},
   "outputs": [],
   "source": [
    "def init_accuracies_and_best(number_employed_bees, accuracies, X_train, X_test, y_train, y_test, algorithm, n, best, best_bee, \n",
    "                             employed_matrix, columns_number):\n",
    "    for i in range(0,number_employed_bees):\n",
    "        accuracies[i]=calculate_accuracy(employed_matrix[i], X_train, X_test, y_train, y_test, algorithm, n)\n",
    "\n",
    "    best = np.amax(accuracies)\n",
    "    for i in range(number_employed_bees):\n",
    "        if accuracies[i] == best:\n",
    "            best_bee = [employed_matrix[i][k] for k in range(columns_number)]"
   ]
  },
  {
   "cell_type": "code",
   "execution_count": 8,
   "metadata": {},
   "outputs": [],
   "source": [
    "def iterations(max_iterations_number, limit_array, limit, employed_matrix, number_employed_bees, columns_number, algorithm, n,\n",
    "               accuracies, number_onlooker_bees, X_train, X_test, y_train, y_test, best, best_bee):\n",
    "    for i in range(0,max_iterations_number):\n",
    "        limit_array= [x+1 for x in limit_array]\n",
    "        for j in range(0,number_employed_bees):\n",
    "            bee = [employed_matrix[j][k] for k in range(columns_number)] \n",
    "            first = np.random.randint(0,columns_number)\n",
    "            second = np.random.randint(0,columns_number) \n",
    "            while first==second or bee[first]==bee[second]:\n",
    "                second = np.random.randint(0,columns_number)\n",
    "            \n",
    "            temp=bee[first]\n",
    "            bee[first]=bee[second]\n",
    "            bee[second]=temp\n",
    "            bee_accuracy = calculate_accuracy(bee, X_train, X_test, y_train, y_test, algorithm, n)\n",
    "            \n",
    "            if bee_accuracy > accuracies[j]:\n",
    "                    employed_matrix[j]=bee\n",
    "                    accuracies[j]=bee_accuracy\n",
    "                    limit_array[j]=0\n",
    "\n",
    "        P = np.zeros(number_employed_bees)\n",
    "        numerator = np.sum(accuracies)\n",
    "        for j in range(0,number_employed_bees):\n",
    "            P[j]=accuracies[j]/numerator\n",
    "\n",
    "        onlooker_bees_indexes = np.zeros(number_onlooker_bees)\n",
    "        k=0    \n",
    "        for j in range(0,number_onlooker_bees):\n",
    "            pick = random.random() \n",
    "            if pick < P[0]:\n",
    "                onlooker_bees_indexes[k]=0\n",
    "                k+=1\n",
    "                continue\n",
    "            for l in range(1,number_employed_bees):\n",
    "                if pick < np.sum(P[0:l+1]) and pick >= np.sum(P[0:l]):\n",
    "                    onlooker_bees_indexes[k]=l\n",
    "                    k+=1\n",
    "                    break\n",
    "\n",
    "        for j in onlooker_bees_indexes:\n",
    "            bee = [employed_matrix[int(j)][k] for k in range(columns_number)]\n",
    "            first = np.random.randint(0,columns_number)\n",
    "            second = np.random.randint(0,columns_number)\n",
    "            while first==second or bee[first]==bee[second]:\n",
    "                second = np.random.randint(0,columns_number)\n",
    "            temp=bee[first]\n",
    "            bee[first]=bee[second]\n",
    "            bee[second]=temp\n",
    "            bee_accuracy = calculate_accuracy(bee, X_train, X_test, y_train, y_test, algorithm, n)\n",
    "            if bee_accuracy > accuracies[int(j)]:\n",
    "                    employed_matrix[int(j)]=bee\n",
    "                    accuracies[int(j)]=bee_accuracy\n",
    "                    limit_array[int(j)]=0\n",
    "\n",
    "        for j in range(0,number_employed_bees):\n",
    "            if limit_array[j] >= limit:\n",
    "                test=0      \n",
    "                while test==0:\n",
    "                    array = np.zeros(columns_number)\n",
    "                    for k in range(0,columns_number):\n",
    "                        rand_number = random.random()\n",
    "                        if rand_number <= 0.5:\n",
    "                            array[k]=0\n",
    "                        else:\n",
    "                            array[k]=1\n",
    "                    if not np.isin(1, array):\n",
    "                        continue\n",
    "                    for k in range(0,number_employed_bees):\n",
    "                        if k!=j and np.array_equal(employed_matrix[k],array):\n",
    "                            continue\n",
    "                    employed_matrix[j] = array\n",
    "                    limit_array[j]=0\n",
    "                    accuracies[j]=calculate_accuracy(array, X_train, X_test, y_train, y_test, algorithm, n)\n",
    "                    test=1\n",
    "          \n",
    "        best_ = np.amax(accuracies)\n",
    "        if best_ > best:\n",
    "            best = best_\n",
    "            for i in range(number_employed_bees):\n",
    "                if accuracies[i] == best:\n",
    "                    best_bee = [employed_matrix[i][k] for k in range(columns_number)] \n",
    "                    break\n",
    "    \n",
    "    return best, best_bee"
   ]
  },
  {
   "cell_type": "markdown",
   "metadata": {},
   "source": [
    "# Literatura\n",
    "\n",
    "[1] [B. Subanya, R. R. Rajalaxmi, A Novel Feature Selection Algorithm for Heart Disease\n",
    "Classification, International Journal of Computational Intelligence and Informatics,\n",
    "Vol. 4, No. 2, 2014.](https://www.periyaruniversity.ac.in/ijcii/issue/Vol4No2September2014/IJCII-4-2-144.pdf) <br>\n",
    "\n",
    "[2] [8 Tactics to Combat Imbalanced Classes in Your Machine Learning Dataset](https://machinelearningmastery.com/tactics-to-combat-imbalanced-classes-in-your-machine-learning-dataset/)\n",
    "\n",
    "[3] [Balanced accuracy: what and why?](http://mvpa.blogspot.com/2015/12/balanced-accuracy-what-and-why.html)"
   ]
  }
 ],
 "metadata": {
  "kernelspec": {
   "display_name": "Python 3",
   "language": "python",
   "name": "python3"
  },
  "language_info": {
   "codemirror_mode": {
    "name": "ipython",
    "version": 3
   },
   "file_extension": ".py",
   "mimetype": "text/x-python",
   "name": "python",
   "nbconvert_exporter": "python",
   "pygments_lexer": "ipython3",
   "version": "3.7.4"
  }
 },
 "nbformat": 4,
 "nbformat_minor": 2
}
